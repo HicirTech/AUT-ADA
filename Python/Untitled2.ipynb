{
 "cells": [
  {
   "cell_type": "code",
   "execution_count": 10,
   "metadata": {},
   "outputs": [],
   "source": [
    "def LIS(a):\n",
    "    L = [1]*len(a)\n",
    "    for i in range(1,len(a)):\n",
    "        for j in range(0,i):\n",
    "            if (a[j]<a[i]):\n",
    "                L[i]=max(L[i],(L[j]+1))\n",
    "                print(L)\n",
    "    return L"
   ]
  },
  {
   "cell_type": "code",
   "execution_count": 11,
   "metadata": {},
   "outputs": [
    {
     "name": "stdout",
     "output_type": "stream",
     "text": [
      "[1, 2, 1, 1, 1, 1, 1, 1, 1, 1]\n",
      "[1, 2, 2, 1, 1, 1, 1, 1, 1, 1]\n",
      "[1, 2, 3, 1, 1, 1, 1, 1, 1, 1]\n",
      "[1, 2, 3, 2, 1, 1, 1, 1, 1, 1]\n",
      "[1, 2, 3, 2, 2, 1, 1, 1, 1, 1]\n",
      "[1, 2, 3, 2, 3, 1, 1, 1, 1, 1]\n",
      "[1, 2, 3, 2, 3, 1, 1, 1, 1, 1]\n",
      "[1, 2, 3, 2, 3, 2, 1, 1, 1, 1]\n",
      "[1, 2, 3, 2, 3, 2, 2, 1, 1, 1]\n",
      "[1, 2, 3, 2, 3, 2, 3, 1, 1, 1]\n",
      "[1, 2, 3, 2, 3, 2, 3, 1, 1, 1]\n",
      "[1, 2, 3, 2, 3, 2, 4, 1, 1, 1]\n",
      "[1, 2, 3, 2, 3, 2, 4, 1, 1, 1]\n",
      "[1, 2, 3, 2, 3, 2, 4, 1, 2, 1]\n",
      "[1, 2, 3, 2, 3, 2, 4, 1, 3, 1]\n",
      "[1, 2, 3, 2, 3, 2, 4, 1, 3, 1]\n",
      "[1, 2, 3, 2, 3, 2, 4, 1, 4, 1]\n",
      "[1, 2, 3, 2, 3, 2, 4, 1, 4, 1]\n",
      "[1, 2, 3, 2, 3, 2, 4, 1, 4, 1]\n",
      "[1, 2, 3, 2, 3, 2, 4, 1, 4, 2]\n",
      "[1, 2, 3, 2, 3, 2, 4, 1, 4, 3]\n",
      "[1, 2, 3, 2, 3, 2, 4, 1, 4, 3]\n",
      "[1, 2, 3, 2, 3, 2, 4, 1, 4, 4]\n",
      "[1, 2, 3, 2, 3, 2, 4, 1, 4, 4]\n",
      "[1, 2, 3, 2, 3, 2, 4, 1, 4, 5]\n",
      "[1, 2, 3, 2, 3, 2, 4, 1, 4, 5]\n",
      "[1, 2, 3, 2, 3, 2, 4, 1, 4, 5]\n"
     ]
    },
    {
     "data": {
      "text/plain": [
       "[1, 2, 3, 2, 3, 2, 4, 1, 4, 5]"
      ]
     },
     "execution_count": 11,
     "metadata": {},
     "output_type": "execute_result"
    }
   ],
   "source": [
    "LIS([3,5,13,4,9,4,10,1,10,12])"
   ]
  },
  {
   "cell_type": "code",
   "execution_count": 22,
   "metadata": {},
   "outputs": [],
   "source": [
    "def LIS(a):\n",
    "    L = [1]*len(a)\n",
    "    for i in range(1,len(a)):\n",
    "        for j in range(0,i):\n",
    "            if (a[i]>a[j]):\n",
    "                L[i]=max(L[i],(L[j]+1))\n",
    "                print(L)\n",
    "    return L"
   ]
  },
  {
   "cell_type": "code",
   "execution_count": 23,
   "metadata": {},
   "outputs": [
    {
     "name": "stdout",
     "output_type": "stream",
     "text": [
      "[1, 2, 1, 1, 1, 1, 1, 1, 1, 1]\n",
      "[1, 2, 2, 1, 1, 1, 1, 1, 1, 1]\n",
      "[1, 2, 3, 1, 1, 1, 1, 1, 1, 1]\n",
      "[1, 2, 3, 2, 1, 1, 1, 1, 1, 1]\n",
      "[1, 2, 3, 2, 2, 1, 1, 1, 1, 1]\n",
      "[1, 2, 3, 2, 3, 1, 1, 1, 1, 1]\n",
      "[1, 2, 3, 2, 3, 1, 1, 1, 1, 1]\n",
      "[1, 2, 3, 2, 3, 2, 1, 1, 1, 1]\n",
      "[1, 2, 3, 2, 3, 2, 2, 1, 1, 1]\n",
      "[1, 2, 3, 2, 3, 2, 3, 1, 1, 1]\n",
      "[1, 2, 3, 2, 3, 2, 3, 1, 1, 1]\n",
      "[1, 2, 3, 2, 3, 2, 4, 1, 1, 1]\n",
      "[1, 2, 3, 2, 3, 2, 4, 1, 1, 1]\n",
      "[1, 2, 3, 2, 3, 2, 4, 1, 2, 1]\n",
      "[1, 2, 3, 2, 3, 2, 4, 1, 3, 1]\n",
      "[1, 2, 3, 2, 3, 2, 4, 1, 3, 1]\n",
      "[1, 2, 3, 2, 3, 2, 4, 1, 4, 1]\n",
      "[1, 2, 3, 2, 3, 2, 4, 1, 4, 1]\n",
      "[1, 2, 3, 2, 3, 2, 4, 1, 4, 1]\n",
      "[1, 2, 3, 2, 3, 2, 4, 1, 4, 2]\n",
      "[1, 2, 3, 2, 3, 2, 4, 1, 4, 3]\n",
      "[1, 2, 3, 2, 3, 2, 4, 1, 4, 3]\n",
      "[1, 2, 3, 2, 3, 2, 4, 1, 4, 4]\n",
      "[1, 2, 3, 2, 3, 2, 4, 1, 4, 4]\n",
      "[1, 2, 3, 2, 3, 2, 4, 1, 4, 5]\n",
      "[1, 2, 3, 2, 3, 2, 4, 1, 4, 5]\n",
      "[1, 2, 3, 2, 3, 2, 4, 1, 4, 5]\n"
     ]
    },
    {
     "data": {
      "text/plain": [
       "[1, 2, 3, 2, 3, 2, 4, 1, 4, 5]"
      ]
     },
     "execution_count": 23,
     "metadata": {},
     "output_type": "execute_result"
    }
   ],
   "source": [
    "LIS([3,5,13,4,9,4,10,1,10,12])"
   ]
  },
  {
   "cell_type": "code",
   "execution_count": 81,
   "metadata": {},
   "outputs": [],
   "source": [
    "def EditDistance(a,b):\n",
    "   e = [[0]*10]*10\n",
    "   for i in range(0,len(a)):\n",
    "        e[i][0]=i\n",
    "   for j in range(0,len(b)):\n",
    "        e[0][j]=j\n"
   ]
  },
  {
   "cell_type": "code",
   "execution_count": 82,
   "metadata": {},
   "outputs": [
    {
     "name": "stdout",
     "output_type": "stream",
     "text": [
      "[[0, 1, 2, 3, 4, 5, 6, 7, 0, 0], [0, 1, 2, 3, 4, 5, 6, 7, 0, 0], [0, 1, 2, 3, 4, 5, 6, 7, 0, 0], [0, 1, 2, 3, 4, 5, 6, 7, 0, 0], [0, 1, 2, 3, 4, 5, 6, 7, 0, 0], [0, 1, 2, 3, 4, 5, 6, 7, 0, 0], [0, 1, 2, 3, 4, 5, 6, 7, 0, 0], [0, 1, 2, 3, 4, 5, 6, 7, 0, 0], [0, 1, 2, 3, 4, 5, 6, 7, 0, 0], [0, 1, 2, 3, 4, 5, 6, 7, 0, 0]]\n"
     ]
    }
   ],
   "source": [
    "EditDistance('Whangarei','Wanganui')"
   ]
  },
  {
   "cell_type": "code",
   "execution_count": null,
   "metadata": {},
   "outputs": [],
   "source": []
  }
 ],
 "metadata": {
  "kernelspec": {
   "display_name": "Python 3",
   "language": "python",
   "name": "python3"
  },
  "language_info": {
   "codemirror_mode": {
    "name": "ipython",
    "version": 3
   },
   "file_extension": ".py",
   "mimetype": "text/x-python",
   "name": "python",
   "nbconvert_exporter": "python",
   "pygments_lexer": "ipython3",
   "version": "3.6.5"
  }
 },
 "nbformat": 4,
 "nbformat_minor": 2
}
